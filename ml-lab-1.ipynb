{
 "cells": [
  {
   "cell_type": "code",
   "execution_count": 1,
   "metadata": {},
   "outputs": [
    {
     "name": "stdout",
     "output_type": "stream",
     "text": [
      "Python version: 3.10.4 (main, Jun 29 2022, 12:14:53) [GCC 11.2.0]\n",
      "pandas version: 1.5.0\n",
      "matplotlib version: 3.6.0\n",
      "NumPy version: 1.23.3\n",
      "SciPy version: 1.9.1\n",
      "IPython version: 8.5.0\n",
      "scikit-learn version: 1.1.2\n",
      "yellowbrick version: 1.5\n"
     ]
    }
   ],
   "source": [
    "# Author: Derek Walz\n",
    "# Date: September 29, 2022\n",
    "# test\n",
    "\n",
    "import sys\n",
    "print(\"Python version:\", sys.version)\n",
    "\n",
    " \n",
    "import pandas as pd\n",
    "print(\"pandas version:\", pd.__version__)\n",
    "\n",
    "import matplotlib\n",
    "print(\"matplotlib version:\", matplotlib.__version__)\n",
    "\n",
    "import numpy as np\n",
    "print(\"NumPy version:\", np.__version__)\n",
    "\n",
    "import scipy as sp\n",
    "print(\"SciPy version:\", sp.__version__)\n",
    "\n",
    "import IPython\n",
    "print(\"IPython version:\", IPython.__version__)\n",
    "\n",
    "import sklearn\n",
    "print(\"scikit-learn version:\", sklearn.__version__)\n",
    "\n",
    "import yellowbrick\n",
    "print(\"yellowbrick version:\", yellowbrick.__version__)"
   ]
  },
  {
   "cell_type": "code",
   "execution_count": 2,
   "metadata": {},
   "outputs": [
    {
     "name": "stdout",
     "output_type": "stream",
     "text": [
      "/home/dpwalz/env\n"
     ]
    }
   ],
   "source": [
    "# My environment. Note for convention I used env rather than ensf-ml\n",
    "# I am also not using conda, I am using Python on Linux which is why I am not usin the provided conda command. \n",
    "import os\n",
    "print (os.environ['VIRTUAL_ENV'])"
   ]
  }
 ],
 "metadata": {
  "kernelspec": {
   "display_name": "Python 3.10.4 ('env')",
   "language": "python",
   "name": "python3"
  },
  "language_info": {
   "codemirror_mode": {
    "name": "ipython",
    "version": 3
   },
   "file_extension": ".py",
   "mimetype": "text/x-python",
   "name": "python",
   "nbconvert_exporter": "python",
   "pygments_lexer": "ipython3",
   "version": "3.10.4"
  },
  "orig_nbformat": 4,
  "vscode": {
   "interpreter": {
    "hash": "543d375afe8cc0475d632c24186f417c6bc9489bc2082a266f173e165db39b67"
   }
  }
 },
 "nbformat": 4,
 "nbformat_minor": 2
}
